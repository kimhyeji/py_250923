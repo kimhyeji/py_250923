{
 "cells": [
  {
   "cell_type": "code",
   "execution_count": 2,
   "id": "8bef2baf",
   "metadata": {},
   "outputs": [],
   "source": [
    "# pip install 모듈이름\n",
    "# pip uninstall 모듈이름\n",
    "\n",
    "# pip install numpy\n",
    "# pip install numpy==1.22.0\n",
    "# pip uninstall numpy\n",
    "# pip list"
   ]
  },
  {
   "cell_type": "code",
   "execution_count": null,
   "id": "b3dbfe6e",
   "metadata": {},
   "outputs": [
    {
     "name": "stdout",
     "output_type": "stream",
     "text": [
      "c:\\work\\py_250923\n"
     ]
    }
   ],
   "source": [
    "# 운영체제 모듈 불러오기\n",
    "import os\n",
    "# 현재 디렉토리를 알려준는 함수\n",
    "print(os.getcwd())"
   ]
  },
  {
   "cell_type": "code",
   "execution_count": null,
   "id": "29e9fe6c",
   "metadata": {},
   "outputs": [
    {
     "name": "stdout",
     "output_type": "stream",
     "text": [
      "C:\\Temp\n",
      "C:\\work\n"
     ]
    }
   ],
   "source": [
    "# 디렉토리를 이동할 수 있게 해주는 함수\n",
    "# 한국어 인식이 안되기 때문에 웬만하면 영어로\n",
    "os.chdir(\"C://Temp\")\n",
    "print(os.getcwd())\n",
    "os.chdir(\"C://work\")\n",
    "print(os.getcwd())"
   ]
  },
  {
   "cell_type": "code",
   "execution_count": 8,
   "id": "31c26fbf",
   "metadata": {},
   "outputs": [
    {
     "name": "stdout",
     "output_type": "stream",
     "text": [
      "py_250923\n"
     ]
    }
   ],
   "source": [
    "# 입력한 경로의 파일과 폴더 목록 리스트로 반환하는 함수\n",
    "os.listdir(\"C://work\")\n",
    "\n",
    "# 리스트에 있는 요소 하나씩 출력\n",
    "for i in os.listdir(\"C://work\"):\n",
    "  print(i)"
   ]
  },
  {
   "cell_type": "code",
   "execution_count": 11,
   "id": "728a7de4",
   "metadata": {},
   "outputs": [
    {
     "name": "stdout",
     "output_type": "stream",
     "text": [
      "False\n",
      "True\n"
     ]
    }
   ],
   "source": [
    "# 특정 폴더가 존재하는지 안하는지 판단해주는 함수\n",
    "print(os.path.exists(\"C:/work/py_test1\"))\n",
    "print(os.path.exists(\"C:/work/py_test2\"))"
   ]
  },
  {
   "cell_type": "code",
   "execution_count": 20,
   "id": "dcc04469",
   "metadata": {},
   "outputs": [],
   "source": [
    "# 폴더를 만들어주는 함수\n",
    "# os.mkdir(\"py_test2\")\n",
    "\n",
    "# 새로운 폴더와 그 하위 폴더까지 만들어주는 함수\n",
    "os.makedirs(\"C:/work/py_test3/py_test3_1\")"
   ]
  },
  {
   "cell_type": "code",
   "execution_count": 24,
   "id": "30c3ff31",
   "metadata": {},
   "outputs": [],
   "source": [
    "# 폴더를 삭제해주는 함수\n",
    "\n",
    "# 여러개의 폴더를 삭제해주는 함수\n",
    "\n",
    "os.rmdir(\"C:/work/py_test3\")"
   ]
  }
 ],
 "metadata": {
  "kernelspec": {
   "display_name": "Python 3",
   "language": "python",
   "name": "python3"
  },
  "language_info": {
   "codemirror_mode": {
    "name": "ipython",
    "version": 3
   },
   "file_extension": ".py",
   "mimetype": "text/x-python",
   "name": "python",
   "nbconvert_exporter": "python",
   "pygments_lexer": "ipython3",
   "version": "3.12.7"
  }
 },
 "nbformat": 4,
 "nbformat_minor": 5
}
