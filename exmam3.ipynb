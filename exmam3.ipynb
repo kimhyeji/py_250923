{
 "cells": [
  {
   "cell_type": "code",
   "execution_count": 9,
   "id": "fa6dd233",
   "metadata": {},
   "outputs": [
    {
     "name": "stdout",
     "output_type": "stream",
     "text": [
      "<a class=\"sister\" href=\"http://example.com/elsie\" id=\"link1\">Elsie</a>\n",
      "Elsie\n"
     ]
    }
   ],
   "source": [
    "# requests 모듈 => 웹 페이지를 요청하고 응답 데이터를 받을 수 있음.\n",
    "import requests as req\n",
    "from bs4 import BeautifulSoup # BeautifulSoup html 해석기\n",
    "\n",
    "# 요청 시 오류 났을 때 아래 문구를 입력해주세요\n",
    "request_headers = {'User-Agent': ('Mozilla/5.0 (Windows NT 10.0;Win64; x64)AppleWebKit/537.36 (KHTML, like Gecko) Chrome/71.0.3578.98Safari/537.36'), }\n",
    "\n",
    "response = req.get(\"https://www.naver.com\", headers=request_headers) # 특정 사이트에 페이지를 요청, 응답 데이터 반환\n",
    "# print(response)\n",
    "\n",
    "\n",
    "html_doc = \"\"\"<html><head><title>The Dormouse's story</title></head>\n",
    "<body>\n",
    "<p class=\"title\"><b>The Dormouse's story</b></p>\n",
    "\n",
    "<p class=\"story\">Once upon a time there were three little sisters; and their names were\n",
    "<a href=\"http://example.com/elsie\" class=\"sister\" id=\"link1\">Elsie</a>,\n",
    "<a href=\"http://example.com/lacie\" class=\"sister\" id=\"link2\">Lacie</a> and\n",
    "<a href=\"http://example.com/tillie\" class=\"sister\" id=\"link3\">Tillie</a>;\n",
    "and they lived at the bottom of a well.</p>\n",
    "\n",
    "<p class=\"story\">...</p>\n",
    "\"\"\"\n",
    "\n",
    "# print(html_doc)\n",
    "soup = BeautifulSoup(html_doc, 'html.parser')\n",
    "# soup을 이용해서 html_doc 문자열 파싱, 그 내용을 soup 변수에 대입\n",
    "alist = soup.select('a')\n",
    "# print(alist)\n",
    "print(alist[0])\n",
    "\n",
    "# 텍스트\n",
    "print(alist[0].text)"
   ]
  }
 ],
 "metadata": {
  "kernelspec": {
   "display_name": "Python 3",
   "language": "python",
   "name": "python3"
  },
  "language_info": {
   "codemirror_mode": {
    "name": "ipython",
    "version": 3
   },
   "file_extension": ".py",
   "mimetype": "text/x-python",
   "name": "python",
   "nbconvert_exporter": "python",
   "pygments_lexer": "ipython3",
   "version": "3.13.7"
  }
 },
 "nbformat": 4,
 "nbformat_minor": 5
}
