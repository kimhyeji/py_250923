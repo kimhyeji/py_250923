{
 "cells": [
  {
   "cell_type": "code",
   "execution_count": null,
   "id": "a3eaabf4",
   "metadata": {},
   "outputs": [],
   "source": [
    "# Numpy : 파이썬에서 수학과 데이터 분석을 쉽게 해주는 라이브러리\n",
    "# ndArray : 숫자를 여러 차원으로 저장할 수 있는 배열"
   ]
  },
  {
   "cell_type": "code",
   "execution_count": null,
   "id": "8a825e0e",
   "metadata": {},
   "outputs": [
    {
     "name": "stdout",
     "output_type": "stream",
     "text": [
      "<class 'numpy.ndarray'>\n",
      "<class 'list'>\n"
     ]
    }
   ],
   "source": [
    "import numpy as np\n",
    "\n",
    "# 1차원 ndArray 생성(숫자 4개가 한 줄로 있는 배열)\n",
    "np.array([1, 2, 3, 4])\n",
    "\n",
    "arr1 = np.array([1, 2, 3, 4]) # numpy 배열임을 알려줌\n",
    "arr2 = [1, 2, 3, 4]\n",
    "\n",
    "# <class 'numpy.ndarray'>\n",
    "# 넘파이로 이루어진 다차원 배열\n",
    "print(type(arr1))\n",
    "\n",
    "# <class 'list'>\n",
    "# 파이썬 리스트 형태\n",
    "print(type(arr2))"
   ]
  },
  {
   "cell_type": "code",
   "execution_count": null,
   "id": "aaaf8092",
   "metadata": {},
   "outputs": [
    {
     "name": "stdout",
     "output_type": "stream",
     "text": [
      "2차원 배열 arr2\n",
      "[[1 2 3 4]\n",
      " [5 6 7 8]]\n",
      "3차원 배열 arr3\n",
      "[[[1 2 3 4]\n",
      "  [1 2 3 4]]\n",
      "\n",
      " [[1 2 3 4]\n",
      "  [1 2 3 4]]]\n"
     ]
    }
   ],
   "source": [
    "# 1차원 배열 : 숫자가 한 줄로 늘어선 형태\n",
    "# 2차원 배열 : 숫자가 가로와 세로로 된 표 모양\n",
    "# 3차원 배열 : 2차원 배열이 여러 장 겹친 입체 모양\n",
    "\n",
    "# 2차원 ndArray 생성\n",
    "# 1차원 배열 두개가 리스트로 묶인 형태가 2차원 배열이다.\n",
    "arr2 = np.array([[1,2,3,4],\n",
    "                 [5,6,7,8]])\n",
    "\n",
    "# 3차원 ndArray 생성\n",
    "arr3 = np.array([[[1,2,3,4], [1,2,3,4]],\n",
    "                [[1,2,3,4], [1,2,3,4]]])\n",
    "\n",
    "print(\"2차원 배열 arr2\")\n",
    "print(arr2)\n",
    "\n",
    "print(\"3차원 배열 arr3\")\n",
    "print(arr3)"
   ]
  }
 ],
 "metadata": {
  "kernelspec": {
   "display_name": "Python 3",
   "language": "python",
   "name": "python3"
  },
  "language_info": {
   "codemirror_mode": {
    "name": "ipython",
    "version": 3
   },
   "file_extension": ".py",
   "mimetype": "text/x-python",
   "name": "python",
   "nbconvert_exporter": "python",
   "pygments_lexer": "ipython3",
   "version": "3.13.7"
  }
 },
 "nbformat": 4,
 "nbformat_minor": 5
}
